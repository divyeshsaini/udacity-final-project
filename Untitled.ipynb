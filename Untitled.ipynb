{
 "cells": [
  {
   "cell_type": "code",
   "execution_count": 1,
   "metadata": {
    "collapsed": false
   },
   "outputs": [],
   "source": [
    "import modules.get_data as gd\n",
    "import modules.data_preprocessing as dp\n",
    "import modules.add_features as af\n",
    "import matplotlib.pyplot as plt\n",
    "import importlib"
   ]
  },
  {
   "cell_type": "code",
   "execution_count": 2,
   "metadata": {
    "collapsed": false
   },
   "outputs": [],
   "source": [
    "start_date = '2011-01-01'\n",
    "end_date = '2016-01-01'\n",
    "features, price = gd.get_feature_label(start_date, end_date)\n",
    "#print(features, price)\n"
   ]
  },
  {
   "cell_type": "code",
   "execution_count": 3,
   "metadata": {
    "collapsed": true
   },
   "outputs": [],
   "source": [
    "def show_plot(series_1, series_2, label_1, label_2, title):\n",
    "    ax = series_1.plot(title=title, label=label_1)\n",
    "    series_2.plot(label=label_2, ax=ax)\n",
    "    ax.set_xlabel('Date')\n",
    "    ax.set_ylabel('Price')\n",
    "    ax.legend(loc='upper left')\n",
    "    plt.show()"
   ]
  },
  {
   "cell_type": "code",
   "execution_count": 4,
   "metadata": {
    "collapsed": false
   },
   "outputs": [],
   "source": [
    "# Add features to dataset\n",
    "list_features = ['net_price_3day', '10_day_volatility', '20_day_moving_average', '50_day_moving_average', 'upper_bollinger_band',\n",
    " 'lower_bollinger_band', 'daily_return', 'EWM']\n",
    "#cci\n",
    "#eom\n",
    "new_features = af.addFeatures(features, price, list_features)"
   ]
  },
  {
   "cell_type": "code",
   "execution_count": 5,
   "metadata": {
    "collapsed": false
   },
   "outputs": [],
   "source": [
    "import modules.perform_classification as pc\n",
    "from sklearn.model_selection import TimeSeriesSplit"
   ]
  },
  {
   "cell_type": "code",
   "execution_count": 6,
   "metadata": {
    "collapsed": false
   },
   "outputs": [
    {
     "name": "stdout",
     "output_type": "stream",
     "text": [
      "(1258, 13)\n"
     ]
    }
   ],
   "source": [
    "#train_size = int(features.shape[0]*.70)\n",
    "#X_train, X_test = features[:train_size], features[:]\n",
    "print(new_features.shape)"
   ]
  },
  {
   "cell_type": "code",
   "execution_count": 9,
   "metadata": {
    "collapsed": false
   },
   "outputs": [],
   "source": [
    "# Next day prediction shift y values by -1 and del last row of X\n",
    "def make_training_testing_set(new_features, price, nday):\n",
    "    print('New Features : ', new_features.shape, '\\n')\n",
    "    y = gd.convert_label(price)\n",
    "    y = y.shift(-nday)\n",
    "    y = y.iloc[:-nday]\n",
    "    X = new_features.copy()\n",
    "    X = X.iloc[:-nday]\n",
    "    train_size = int(X.shape[0]*.7)\n",
    "    X_train, X_test = X[:train_size], X[train_size:]\n",
    "    y_train, y_test = y[:train_size], y[train_size:]\n",
    "    print(X_train.shape, y_train.shape)\n",
    "    return X_train, y_train, X_test, y_test"
   ]
  },
  {
   "cell_type": "code",
   "execution_count": 10,
   "metadata": {
    "collapsed": false
   },
   "outputs": [
    {
     "name": "stdout",
     "output_type": "stream",
     "text": [
      "New Features :  (1258, 13) \n",
      "\n",
      "(879, 13) (879,)\n",
      "{'LogisticRegression': [0.5], 'SGDClassifier': [0.47089947089947087], 'SVC': [0.52910052910052907], 'GaussianProcessClassifier': [0.52910052910052907], 'GaussianNB': [0.47089947089947087], 'RandomForestClassifier': [0.47883597883597884], 'ExtraTreesClassifier': [0.50793650793650791], 'AdaBoostClassifier': [0.52380952380952384], 'GradientBoostingClassifier': [0.49470899470899471], 'DecisionTreeClassifier': [0.49735449735449733]}\n"
     ]
    }
   ],
   "source": [
    "import modules.perform_classification as pc\n",
    "importlib.reload(pc)\n",
    "# for next day prediction\n",
    "scores = {'LogisticRegression':[], 'SGDClassifier':[], 'SVC':[], 'GaussianProcessClassifier':[], 'GaussianNB':[], 'RandomForestClassifier':[], \n",
    "              'ExtraTreesClassifier':[], 'AdaBoostClassifier':[], 'GradientBoostingClassifier':[], 'DecisionTreeClassifier':[]}\n",
    "X_train, y_train, X_test, y_test = make_training_testing_set(new_features, price, nday=1)\n",
    "scores = pc.classification(X_train, y_train, X_test, y_test, scores)\n",
    "print(scores)"
   ]
  },
  {
   "cell_type": "markdown",
   "metadata": {},
   "source": [
    "#### Testing values after n days as next day accuracy score is ~50%(+ 5 to 8% based on tuning model) which is like tossing the coin. \n",
    "#### We change our prediction design and predict sign of difference between next day price and price n days ago "
   ]
  },
  {
   "cell_type": "code",
   "execution_count": null,
   "metadata": {
    "collapsed": false
   },
   "outputs": [],
   "source": [
    "# make a list for predicting value after n days\n",
    "days = [1,5,10,15,20,25,30]\n",
    "scores = {'LogisticRegression':[], 'SGDClassifier':[], 'SVC':[], 'GaussianProcessClassifier':[], 'GaussianNB':[], 'RandomForestClassifier':[], \n",
    "              'ExtraTreesClassifier':[], 'AdaBoostClassifier':[], 'GradientBoostingClassifier':[], 'DecisionTreeClassifier':[]}\n",
    "for day in days:\n",
    "    X_train, y_train, X_test, y_test = make_training_testing_set(new_features, price, nday=day)\n",
    "    scores = pc.classification(X_train, y_train, X_test, y_test, scores)\n"
   ]
  },
  {
   "cell_type": "code",
   "execution_count": null,
   "metadata": {
    "collapsed": false
   },
   "outputs": [],
   "source": [
    "print(scores)"
   ]
  },
  {
   "cell_type": "code",
   "execution_count": 28,
   "metadata": {
    "collapsed": false
   },
   "outputs": [],
   "source": [
    "# function to make label(sign of difference between next day price and price n days ago)\n",
    "def make_labels(new_features, price, nday):\n",
    "    y = price.copy()\n",
    "    y = temp.shift(-1) # for predicting next day price\n",
    "    if(nday != 1):\n",
    "        temp = price.copy()\n",
    "        temp = temp.shift(nday)\n",
    "        y = y - temp_2\n",
    "    y = y.iloc[nday:-1]\n",
    "    X = new_features.copy()\n",
    "    X = X.iloc[nday:-1]\n",
    "    train_size = int(X.shape[0]*.7)\n",
    "    X_train, X_test = X[:train_size], X[train_size:]\n",
    "    y_train, y_test = y[:train_size], y[train_size:]\n",
    "    print(X_train.shape, y_train.shape)\n",
    "    return X_train, y_train, X_test, y_test"
   ]
  },
  {
   "cell_type": "code",
   "execution_count": 29,
   "metadata": {
    "collapsed": false
   },
   "outputs": [
    {
     "name": "stdout",
     "output_type": "stream",
     "text": [
      "New Features :  (1258, 13) \n",
      "\n",
      "(879, 13) (879,)\n",
      "New Features :  (1258, 13) \n",
      "\n",
      "(877, 13) (877,)\n",
      "New Features :  (1258, 13) \n",
      "\n",
      "(873, 13) (873,)\n",
      "New Features :  (1258, 13) \n",
      "\n",
      "(870, 13) (870,)\n",
      "New Features :  (1258, 13) \n",
      "\n",
      "(866, 13) (866,)\n",
      "New Features :  (1258, 13) \n",
      "\n",
      "(863, 13) (863,)\n",
      "New Features :  (1258, 13) \n",
      "\n",
      "(859, 13) (859,)\n"
     ]
    }
   ],
   "source": [
    "days = [1,5,10,15,20,25,30]\n",
    "scores = {'LogisticRegression':[], 'SGDClassifier':[], 'SVC':[], 'GaussianProcessClassifier':[], 'GaussianNB':[], 'RandomForestClassifier':[], \n",
    "              'ExtraTreesClassifier':[], 'AdaBoostClassifier':[], 'GradientBoostingClassifier':[], 'DecisionTreeClassifier':[]}\n",
    "for day in days:\n",
    "    X_train, y_train, X_test, y_test = make_training_testing_set(new_features, price, nday=day)\n",
    "    scores = pc.classification(X_train, y_train, X_test, y_test, scores)"
   ]
  },
  {
   "cell_type": "code",
   "execution_count": 27,
   "metadata": {
    "collapsed": false
   },
   "outputs": [
    {
     "name": "stdout",
     "output_type": "stream",
     "text": [
      "{'LogisticRegression': [0.5, 0.5, 0.52533333333333332, 0.52010723860589814, 0.52956989247311825, 0.53243243243243243, 0.51219512195121952], 'SGDClassifier': [0.52910052910052907, 0.47074468085106386, 0.53066666666666662, 0.46916890080428952, 0.52956989247311825, 0.52972972972972976, 0.52845528455284552], 'SVC': [0.52910052910052907, 0.5292553191489362, 0.53066666666666662, 0.53083109919571048, 0.52956989247311825, 0.52972972972972976, 0.52845528455284552], 'GaussianProcessClassifier': [0.52910052910052907, 0.5292553191489362, 0.53066666666666662, 0.53083109919571048, 0.52956989247311825, 0.52972972972972976, 0.52845528455284552], 'GaussianNB': [0.47089947089947087, 0.48138297872340424, 0.47733333333333333, 0.47989276139410186, 0.46774193548387094, 0.45135135135135135, 0.52845528455284552], 'RandomForestClassifier': [0.47883597883597884, 0.48670212765957449, 0.47733333333333333, 0.49329758713136729, 0.46505376344086019, 0.50270270270270268, 0.50135501355013545], 'ExtraTreesClassifier': [0.47619047619047616, 0.52127659574468088, 0.47999999999999998, 0.47184986595174261, 0.50806451612903225, 0.52972972972972976, 0.50406504065040647], 'AdaBoostClassifier': [0.52380952380952384, 0.51063829787234039, 0.48266666666666669, 0.51474530831099197, 0.52956989247311825, 0.4756756756756757, 0.47154471544715448], 'GradientBoostingClassifier': [0.52645502645502651, 0.4521276595744681, 0.47999999999999998, 0.46112600536193027, 0.51344086021505375, 0.53243243243243243, 0.47154471544715448], 'DecisionTreeClassifier': [0.50529100529100535, 0.47340425531914893, 0.5093333333333333, 0.47721179624664878, 0.4838709677419355, 0.54324324324324325, 0.49051490514905149]}\n"
     ]
    }
   ],
   "source": [
    "print(scores)"
   ]
  },
  {
   "cell_type": "code",
   "execution_count": null,
   "metadata": {
    "collapsed": true
   },
   "outputs": [],
   "source": []
  },
  {
   "cell_type": "code",
   "execution_count": 16,
   "metadata": {
    "collapsed": false
   },
   "outputs": [
    {
     "data": {
      "text/plain": [
       "[0, 50, 0, 100]"
      ]
     },
     "execution_count": 16,
     "metadata": {},
     "output_type": "execute_result"
    }
   ],
   "source": [
    "plt.axis([0, 50, 0, 100])"
   ]
  },
  {
   "cell_type": "code",
   "execution_count": null,
   "metadata": {
    "collapsed": true
   },
   "outputs": [],
   "source": []
  }
 ],
 "metadata": {
  "kernelspec": {
   "display_name": "Python 3",
   "language": "python",
   "name": "python3"
  },
  "language_info": {
   "codemirror_mode": {
    "name": "ipython",
    "version": 3
   },
   "file_extension": ".py",
   "mimetype": "text/x-python",
   "name": "python",
   "nbconvert_exporter": "python",
   "pygments_lexer": "ipython3",
   "version": "3.6.0"
  }
 },
 "nbformat": 4,
 "nbformat_minor": 2
}
